{
  "nbformat": 4,
  "nbformat_minor": 0,
  "metadata": {
    "colab": {
      "provenance": []
    },
    "kernelspec": {
      "name": "python3",
      "display_name": "Python 3"
    },
    "language_info": {
      "name": "python"
    }
  },
  "cells": [
    {
      "cell_type": "code",
      "source": [
        "!pip install --upgrade transformers\n"
      ],
      "metadata": {
        "colab": {
          "base_uri": "https://localhost:8080/"
        },
        "id": "YRAxof8YAAqp",
        "outputId": "d0cb1ad3-00e9-457c-b371-78b1b315966f"
      },
      "execution_count": null,
      "outputs": [
        {
          "output_type": "stream",
          "name": "stdout",
          "text": [
            "Requirement already satisfied: transformers in /usr/local/lib/python3.11/dist-packages (4.51.3)\n",
            "Requirement already satisfied: filelock in /usr/local/lib/python3.11/dist-packages (from transformers) (3.18.0)\n",
            "Requirement already satisfied: huggingface-hub<1.0,>=0.30.0 in /usr/local/lib/python3.11/dist-packages (from transformers) (0.30.2)\n",
            "Requirement already satisfied: numpy>=1.17 in /usr/local/lib/python3.11/dist-packages (from transformers) (2.0.2)\n",
            "Requirement already satisfied: packaging>=20.0 in /usr/local/lib/python3.11/dist-packages (from transformers) (24.2)\n",
            "Requirement already satisfied: pyyaml>=5.1 in /usr/local/lib/python3.11/dist-packages (from transformers) (6.0.2)\n",
            "Requirement already satisfied: regex!=2019.12.17 in /usr/local/lib/python3.11/dist-packages (from transformers) (2024.11.6)\n",
            "Requirement already satisfied: requests in /usr/local/lib/python3.11/dist-packages (from transformers) (2.32.3)\n",
            "Requirement already satisfied: tokenizers<0.22,>=0.21 in /usr/local/lib/python3.11/dist-packages (from transformers) (0.21.1)\n",
            "Requirement already satisfied: safetensors>=0.4.3 in /usr/local/lib/python3.11/dist-packages (from transformers) (0.5.3)\n",
            "Requirement already satisfied: tqdm>=4.27 in /usr/local/lib/python3.11/dist-packages (from transformers) (4.67.1)\n",
            "Requirement already satisfied: fsspec>=2023.5.0 in /usr/local/lib/python3.11/dist-packages (from huggingface-hub<1.0,>=0.30.0->transformers) (2025.3.2)\n",
            "Requirement already satisfied: typing-extensions>=3.7.4.3 in /usr/local/lib/python3.11/dist-packages (from huggingface-hub<1.0,>=0.30.0->transformers) (4.13.2)\n",
            "Requirement already satisfied: charset-normalizer<4,>=2 in /usr/local/lib/python3.11/dist-packages (from requests->transformers) (3.4.1)\n",
            "Requirement already satisfied: idna<4,>=2.5 in /usr/local/lib/python3.11/dist-packages (from requests->transformers) (3.10)\n",
            "Requirement already satisfied: urllib3<3,>=1.21.1 in /usr/local/lib/python3.11/dist-packages (from requests->transformers) (2.4.0)\n",
            "Requirement already satisfied: certifi>=2017.4.17 in /usr/local/lib/python3.11/dist-packages (from requests->transformers) (2025.4.26)\n"
          ]
        }
      ]
    },
    {
      "cell_type": "code",
      "source": [
        "import pandas as pd\n",
        "from sklearn.model_selection import train_test_split\n",
        "from sklearn.feature_extraction.text import CountVectorizer\n",
        "from sklearn.naive_bayes import MultinomialNB\n",
        "from sklearn.metrics import accuracy_score, classification_report\n",
        "\n",
        "#Load the Excel file again\n",
        "excel_path = \"Data1.xlsx\"\n",
        "df_excel = pd.read_excel(excel_path)\n",
        "\n",
        "#Display first few rows and column names\n",
        "df_excel.head(), df_excel.columns\n",
        "\n",
        "#Keep only the first two useful columns: class and sms\n",
        "df_cleaned = df_excel[['class', 'sms']].dropna()\n",
        "\n",
        "#Save to csv file for later use\n",
        "df_cleaned.to_csv(\"fixed_data.csv\", index=False)\n"
      ],
      "metadata": {
        "id": "HwvA30cB4K37"
      },
      "execution_count": null,
      "outputs": []
    },
    {
      "cell_type": "markdown",
      "source": [
        "**Bag of words with Multinomial Naive bayes**"
      ],
      "metadata": {
        "id": "UTo2e2Xn38C2"
      }
    },
    {
      "cell_type": "code",
      "source": [
        "#Load the cleaned dataset\n",
        "df = pd.read_csv(\"/content/fixed_data.csv\")\n",
        "\n",
        "#Split into features and labels\n",
        "X = df['sms']\n",
        "y = df['class']\n",
        "\n",
        "#Split into training and testing sets (80/20)\n",
        "X_train, X_test, y_train, y_test = train_test_split(X, y, test_size=0.2, random_state=42)\n",
        "\n",
        "#Convert text to numeric using Bag of Words\n",
        "vectorizer = CountVectorizer()\n",
        "X_train_vectors = vectorizer.fit_transform(X_train)\n",
        "X_test_vectors = vectorizer.transform(X_test)\n",
        "\n",
        "#Train a Naive Bayes classifier\n",
        "model = MultinomialNB()\n",
        "model.fit(X_train_vectors, y_train)\n",
        "\n",
        "#Make predictions\n",
        "y_pred = model.predict(X_test_vectors)\n",
        "\n",
        "#Evaluate\n",
        "print(\"Accuracy:\", accuracy_score(y_test, y_pred))\n",
        "print(\"\\nClassification Report:\\n\", classification_report(y_test, y_pred))\n"
      ],
      "metadata": {
        "colab": {
          "base_uri": "https://localhost:8080/"
        },
        "id": "FzShof0sxgQm",
        "outputId": "9f5f8a70-5cb9-48f0-c683-79933aadac7a"
      },
      "execution_count": null,
      "outputs": [
        {
          "output_type": "stream",
          "name": "stdout",
          "text": [
            "Accuracy: 0.8805104408352669\n",
            "\n",
            "Classification Report:\n",
            "               precision    recall  f1-score   support\n",
            "\n",
            "         ham       0.89      0.79      0.83       326\n",
            "        spam       0.88      0.94      0.91       536\n",
            "\n",
            "    accuracy                           0.88       862\n",
            "   macro avg       0.88      0.86      0.87       862\n",
            "weighted avg       0.88      0.88      0.88       862\n",
            "\n"
          ]
        }
      ]
    },
    {
      "cell_type": "markdown",
      "source": [
        "TF-IDF with Multinomial Naive Bayes\n",
        "\n",
        "\n"
      ],
      "metadata": {
        "id": "AOlFz95j4pgs"
      }
    },
    {
      "cell_type": "code",
      "source": [
        "import pandas as pd\n",
        "from sklearn.model_selection import train_test_split\n",
        "from sklearn.feature_extraction.text import TfidfVectorizer\n",
        "from sklearn.naive_bayes import MultinomialNB\n",
        "from sklearn.metrics import accuracy_score, classification_report\n",
        "\n",
        "#Load the cleaned CSV\n",
        "df = pd.read_csv(\"/content/fixed_data.csv\")\n",
        "\n",
        "#Features and labels\n",
        "X = df['sms']\n",
        "y = df['class']\n",
        "\n",
        "#Split: 80% training, 20% testing\n",
        "X_train, X_test, y_train, y_test = train_test_split(X, y, test_size=0.2, random_state=42)\n",
        "\n",
        "#Vectorize using TF-IDF\n",
        "tfidf = TfidfVectorizer()\n",
        "X_train_tfidf = tfidf.fit_transform(X_train)\n",
        "X_test_tfidf = tfidf.transform(X_test)\n",
        "\n",
        "#Train the model\n",
        "model = MultinomialNB()\n",
        "model.fit(X_train_tfidf, y_train)\n",
        "\n",
        "#Predict and evaluate\n",
        "y_pred = model.predict(X_test_tfidf)\n",
        "\n",
        "print(\"Accuracy:\", accuracy_score(y_test, y_pred))\n",
        "print(\"\\nClassification Report:\\n\", classification_report(y_test, y_pred))\n"
      ],
      "metadata": {
        "colab": {
          "base_uri": "https://localhost:8080/"
        },
        "id": "28sc-KYgLvxg",
        "outputId": "4695fe67-fa9f-4ea6-8007-1199f77d3aa5"
      },
      "execution_count": null,
      "outputs": [
        {
          "output_type": "stream",
          "name": "stdout",
          "text": [
            "Accuracy: 0.888631090487239\n",
            "\n",
            "Classification Report:\n",
            "               precision    recall  f1-score   support\n",
            "\n",
            "         ham       0.93      0.77      0.84       326\n",
            "        spam       0.87      0.96      0.91       536\n",
            "\n",
            "    accuracy                           0.89       862\n",
            "   macro avg       0.90      0.86      0.88       862\n",
            "weighted avg       0.89      0.89      0.89       862\n",
            "\n"
          ]
        }
      ]
    },
    {
      "cell_type": "code",
      "source": [
        "import matplotlib.pyplot as plt\n",
        "import seaborn as sns\n",
        "from sklearn.metrics import confusion_matrix\n",
        "\n",
        "#Create the confusion matrix\n",
        "cm = confusion_matrix(y_test, y_pred, labels=['ham', 'spam'])\n",
        "\n",
        "#Plot it\n",
        "plt.figure(figsize=(6,4))\n",
        "sns.heatmap(cm, annot=True, fmt='d', cmap='Blues', xticklabels=['Ham', 'Spam'], yticklabels=['Ham', 'Spam'])\n",
        "plt.xlabel(\"Predicted\")\n",
        "plt.ylabel(\"Actual\")\n",
        "plt.title(\"Confusion Matrix\")\n",
        "plt.show()\n"
      ],
      "metadata": {
        "colab": {
          "base_uri": "https://localhost:8080/",
          "height": 410
        },
        "id": "HfGA8U6aOKN2",
        "outputId": "1a408588-fd45-43aa-e6f8-e3ea941d37dc"
      },
      "execution_count": null,
      "outputs": [
        {
          "output_type": "display_data",
          "data": {
            "text/plain": [
              "<Figure size 600x400 with 2 Axes>"
            ],
            "image/png": "[encoded data removed]"
          },
          "metadata": {}
        }
      ]
    },
    {
      "cell_type": "code",
      "source": [
        "#Compare predicted vs actual counts\n",
        "pd.DataFrame({'Actual': y_test, 'Predicted': y_pred}).value_counts().unstack().plot(kind='bar', figsize=(8,5))\n",
        "plt.title(\"Actual vs Predicted SMS Classes\")\n",
        "plt.xlabel(\"Actual Class\")\n",
        "plt.ylabel(\"Count\")\n",
        "plt.xticks(rotation=0)\n",
        "plt.legend(title=\"Predicted\")\n",
        "plt.grid(True, axis='y')\n",
        "plt.tight_layout()\n",
        "plt.show()\n"
      ],
      "metadata": {
        "id": "IRIXqf2LOgbY",
        "outputId": "755331b2-9b7e-4251-d0bf-c4e9fc490816",
        "colab": {
          "base_uri": "https://localhost:8080/",
          "height": 507
        }
      },
      "execution_count": null,
      "outputs": [
        {
          "output_type": "display_data",
          "data": {
            "text/plain": [
              "<Figure size 800x500 with 1 Axes>"
            ],
            "image/png": "[encoded data removed]"
          },
          "metadata": {}
        }
      ]
    },
    {
      "cell_type": "code",
      "source": [
        "#Test on a custom message\n",
        "sample = [\"Dear Customer, your Bank AL Habib Account (0254-0078--50-8) has been debited with the amount PKR 320000.00, dated: 30/12/2024.\"]\n",
        "sample_tfidf = tfidf.transform(sample)\n",
        "print(\"Prediction:\", model.predict(sample_tfidf)[0])  # Should return 'ham'\n"
      ],
      "metadata": {
        "colab": {
          "base_uri": "https://localhost:8080/"
        },
        "id": "zsKrhvoHM-Xf",
        "outputId": "2eac2297-1dda-4a9d-8322-d590ebc93474"
      },
      "execution_count": null,
      "outputs": [
        {
          "output_type": "stream",
          "name": "stdout",
          "text": [
            "Prediction: ham\n"
          ]
        }
      ]
    },
    {
      "cell_type": "code",
      "source": [
        "#Test on a custom message\n",
        "sample = [\"Apka 4G bundle khatam ho chuka hai.Aap ka aaj ka muft 50MB 3G Internet khatam ho chuka hai. Bundle hasil karnay k liyah 345 per call karen\"]\n",
        "sample_tfidf = tfidf.transform(sample)\n",
        "print(\"Prediction:\", model.predict(sample_tfidf)[0])  # Should return 'spam'\n"
      ],
      "metadata": {
        "colab": {
          "base_uri": "https://localhost:8080/"
        },
        "id": "4pRfVAynNO4V",
        "outputId": "8e3ae3d9-b4e5-474f-f413-1ab07554d634"
      },
      "execution_count": null,
      "outputs": [
        {
          "output_type": "stream",
          "name": "stdout",
          "text": [
            "Prediction: spam\n"
          ]
        }
      ]
    },
    {
      "cell_type": "markdown",
      "source": [
        "\n",
        "**Applied Cleaning on dataset also improved upon test train split by using stratified split from now onwards**"
      ],
      "metadata": {
        "id": "9Mm9msIz5dVC"
      }
    },
    {
      "cell_type": "code",
      "source": [
        "import pandas as pd\n",
        "import re\n",
        "from sklearn.model_selection import train_test_split, GridSearchCV\n",
        "from sklearn.feature_extraction.text import TfidfVectorizer\n",
        "from sklearn.linear_model import LogisticRegression\n",
        "from sklearn.metrics import classification_report, accuracy_score\n",
        "\n",
        "#Load and clean the Excel data\n",
        "df = pd.read_csv(\"/content/fixed_data.csv\")\n",
        "\n",
        "\n",
        "def clean_text(text):\n",
        "    text = text.lower()  # Convert to lowercase\n",
        "\n",
        "    # Remove unwanted characters but keep useful ones like @ / Rs\n",
        "    text = re.sub(r'[^a-z0-9@/:#\\s]', ' ', text)  # Allow a-z, 0-9, @, /, :, spaces\n",
        "\n",
        "    text = re.sub(r'\\s+', ' ', text).strip()  # Remove extra spaces\n",
        "    return text\n",
        "\n",
        "#Apply cleaning\n",
        "df['sms'] = df['sms'].apply(clean_text)\n",
        "\n",
        "\n",
        "#TF-IDF Vectorization\n",
        "tfidf = TfidfVectorizer(ngram_range=(1, 3), max_features=5000, min_df=3, max_df=0.9, sublinear_tf=True)\n",
        "X = tfidf.fit_transform(df['sms'])\n",
        "y = df['class']\n",
        "\n",
        "#Stratified train/test split\n",
        "X_train, X_test, y_train, y_test = train_test_split(\n",
        "    X, y, test_size=0.2, stratify=y, random_state=42\n",
        ")\n"
      ],
      "metadata": {
        "id": "ACqphAbv6wYr"
      },
      "execution_count": null,
      "outputs": []
    },
    {
      "cell_type": "markdown",
      "source": [
        "**Using Logistic regression after TF-IDF**"
      ],
      "metadata": {
        "id": "8r8Of9ok4yyg"
      }
    },
    {
      "cell_type": "code",
      "source": [
        "\n",
        "#Grid search for best Logistic Regression parameter\n",
        "param_grid = {'C': [0.001, 0.01, 0.1, 1]}\n",
        "grid = GridSearchCV(LogisticRegression(max_iter=1000), param_grid, cv=5)\n",
        "grid.fit(X_train, y_train)\n",
        "\n",
        "#Best model predictions\n",
        "best_model = grid.best_estimator_\n",
        "y_pred = best_model.predict(X_test)\n",
        "\n",
        "\n",
        "print(\"Testing Accuracy:\", accuracy_score(y_test, y_pred))\n",
        "print(\"\\nClassification Report:\\n\", classification_report(y_test, y_pred))\n"
      ],
      "metadata": {
        "colab": {
          "base_uri": "https://localhost:8080/"
        },
        "id": "VbarMHzv4yPv",
        "outputId": "282e8e4b-f710-4fcb-980b-7472a708e9b2"
      },
      "execution_count": null,
      "outputs": [
        {
          "output_type": "stream",
          "name": "stdout",
          "text": [
            "Accuracy: 0.9048723897911833\n",
            "\n",
            "Classification Report:\n",
            "               precision    recall  f1-score   support\n",
            "\n",
            "         ham       0.95      0.78      0.86       314\n",
            "        spam       0.89      0.97      0.93       548\n",
            "\n",
            "    accuracy                           0.90       862\n",
            "   macro avg       0.92      0.88      0.89       862\n",
            "weighted avg       0.91      0.90      0.90       862\n",
            "\n"
          ]
        }
      ]
    },
    {
      "cell_type": "code",
      "source": [
        "#Test on a custom message\n",
        "sample = [clean_text(\"Apka 4G bundle khatam ho chuka hai.Aap ka aaj ka muft 50MB 3G Internet khatam ho chuka hai. Bundle hasil karnay k liyah 345 per call karen\")]\n",
        "\n",
        "sample_tfidf = tfidf.transform(sample)\n",
        "print(\"Prediction:\", best_model.predict(sample_tfidf)[0])  # Should return 'spam'\n"
      ],
      "metadata": {
        "colab": {
          "base_uri": "https://localhost:8080/"
        },
        "id": "dZ3rad8zznhz",
        "outputId": "6170ed58-15c2-41f5-fd3a-c4a0be9166d0"
      },
      "execution_count": null,
      "outputs": [
        {
          "output_type": "stream",
          "name": "stdout",
          "text": [
            "Prediction: spam\n"
          ]
        }
      ]
    },
    {
      "cell_type": "code",
      "source": [
        "#Test on a custom message\n",
        "sample = [clean_text(\"kia musibat hai\")]\n",
        "\n",
        "sample_tfidf = tfidf.transform(sample)\n",
        "print(\"Prediction:\", best_model.predict(sample_tfidf)[0])  # Should return 'ham'\n"
      ],
      "metadata": {
        "colab": {
          "base_uri": "https://localhost:8080/"
        },
        "id": "jO2sw5uV_rzm",
        "outputId": "101f2879-91d9-4ad4-d82c-e198b984b3bc"
      },
      "execution_count": null,
      "outputs": [
        {
          "output_type": "stream",
          "name": "stdout",
          "text": [
            "Prediction: ham\n"
          ]
        }
      ]
    },
    {
      "cell_type": "markdown",
      "source": [
        "\n",
        "**Training accuracy**\n",
        "\n",
        "\n"
      ],
      "metadata": {
        "id": "NI5f218FAJTQ"
      }
    },
    {
      "cell_type": "code",
      "source": [
        "y_train_pred = best_model.predict(X_train)\n",
        "print(\"Training Accuracy:\", accuracy_score(y_train, y_train_pred))\n"
      ],
      "metadata": {
        "colab": {
          "base_uri": "https://localhost:8080/"
        },
        "id": "LBRUfElOAHLZ",
        "outputId": "1108f1ec-31ef-4e46-9fc5-6e44206f37d3"
      },
      "execution_count": null,
      "outputs": [
        {
          "output_type": "stream",
          "name": "stdout",
          "text": [
            "Training Accuracy: 0.9265815438189204\n"
          ]
        }
      ]
    },
    {
      "cell_type": "markdown",
      "source": [
        "**The training and test accuracy both above 90% shows that model is not underfitting**"
      ],
      "metadata": {
        "id": "oL8gPHfxBQYD"
      }
    },
    {
      "cell_type": "markdown",
      "source": [
        "**Summary:**\n",
        "\n",
        "\n",
        "---\n"
      ],
      "metadata": {
        "id": "-wp6vdAxB1tH"
      }
    },
    {
      "cell_type": "markdown",
      "source": [
        "\n",
        "**Situation\tInterpretation**\n",
        "1.   **Low train + low test accuracy =\tUnderfitting**\n",
        "2.  **High train + low test accuracy =\tOverfitting**\n",
        "3.   **High and similar train/test accuracy\tGood = generalization**"
      ],
      "metadata": {
        "id": "9ULib-0qqNCw"
      }
    },
    {
      "cell_type": "code",
      "source": [
        "print(\"Cross-validation scores:\", grid.cv_results_['mean_test_score'])\n"
      ],
      "metadata": {
        "colab": {
          "base_uri": "https://localhost:8080/"
        },
        "id": "Lf0JbH3nCKTY",
        "outputId": "debdf0cd-1e9e-4e69-db75-0feca8e8c55d"
      },
      "execution_count": null,
      "outputs": [
        {
          "output_type": "stream",
          "name": "stdout",
          "text": [
            "Cross-validation scores: [0.63580951 0.65815233 0.84126375 0.89204855]\n"
          ]
        }
      ]
    },
    {
      "cell_type": "markdown",
      "source": [
        "**Training Curve**"
      ],
      "metadata": {
        "id": "2MyF1xCTCo-t"
      }
    },
    {
      "cell_type": "code",
      "source": [
        "import matplotlib.pyplot as plt\n",
        "from sklearn.model_selection import learning_curve\n",
        "import numpy as np\n",
        "\n",
        "#Generate learning curve data\n",
        "train_sizes, train_scores, val_scores = learning_curve(\n",
        "    best_model, X_train, y_train,\n",
        "    cv=5, scoring='accuracy',\n",
        "    train_sizes=np.linspace(0.1, 1.0, 10),\n",
        "    n_jobs=-1\n",
        ")\n",
        "\n",
        "#Compute mean and std\n",
        "train_scores_mean = np.mean(train_scores, axis=1)\n",
        "val_scores_mean = np.mean(val_scores, axis=1)\n",
        "train_scores_std = np.std(train_scores, axis=1)\n",
        "val_scores_std = np.std(val_scores, axis=1)\n",
        "\n",
        "#Plot\n",
        "plt.figure(figsize=(10, 6))\n",
        "plt.plot(train_sizes, train_scores_mean, 'o-', color='blue', label='Training score')\n",
        "plt.plot(train_sizes, val_scores_mean, 'o-', color='green', label='Cross-validation score')\n",
        "plt.fill_between(train_sizes, train_scores_mean - train_scores_std,\n",
        "                 train_scores_mean + train_scores_std, alpha=0.1, color='blue')\n",
        "plt.fill_between(train_sizes, val_scores_mean - val_scores_std,\n",
        "                 val_scores_mean + val_scores_std, alpha=0.1, color='green')\n",
        "plt.title('Learning Curve - Logistic Regression')\n",
        "plt.xlabel('Training Set Size')\n",
        "plt.ylabel('Accuracy')\n",
        "plt.legend(loc='best')\n",
        "plt.grid(True)\n",
        "plt.show()\n"
      ],
      "metadata": {
        "colab": {
          "base_uri": "https://localhost:8080/",
          "height": 564
        },
        "id": "wDzI0PbdClVO",
        "outputId": "f13a9371-1b6f-4b0f-e28a-9927b923b013"
      },
      "execution_count": null,
      "outputs": [
        {
          "output_type": "display_data",
          "data": {
            "text/plain": [
              "<Figure size 1000x600 with 1 Axes>"
            ],
            "image/png": "[encoded data removed]"
          },
          "metadata": {}
        }
      ]
    },
    {
      "cell_type": "code",
      "source": [
        "#Test on a custom message\n",
        "sample = [\"Dear Customer, your Bank AL Habib Account (0254-0078--50-8) has been debited with the amount PKR 320000.00, dated: 30/12/2024.\"]\n",
        "sample_tfidf = tfidf.transform(sample)\n",
        "print(\"Prediction:\", best_model.predict(sample_tfidf)[0])  # Should return 'ham'"
      ],
      "metadata": {
        "id": "J8oMv7EY0FZe",
        "colab": {
          "base_uri": "https://localhost:8080/"
        },
        "outputId": "d4ba3534-ad74-418b-dc19-efb025ffae58"
      },
      "execution_count": null,
      "outputs": [
        {
          "output_type": "stream",
          "name": "stdout",
          "text": [
            "Prediction: ham\n"
          ]
        }
      ]
    },
    {
      "cell_type": "markdown",
      "source": [
        "**Printing with confidence score**"
      ],
      "metadata": {
        "id": "SNRAi9_dr4kZ"
      }
    },
    {
      "cell_type": "code",
      "source": [
        "import numpy as np\n",
        "\n",
        "message = \"Congratulations! You won.\"\n",
        "\n",
        "cleaned = clean_text(message)\n",
        "\n",
        "vector = tfidf.transform([cleaned])\n",
        "\n",
        "#Predict probability\n",
        "proba = best_model.predict_proba(vector)[0]  #[ham_prob, spam_prob]\n",
        "\n",
        "#Get predicted class and confidence\n",
        "classes = best_model.classes_               # ['ham', 'spam']\n",
        "max_index = np.argmax(proba)                # Index of highest probability\n",
        "label = classes[max_index]\n",
        "confidence = round(proba[max_index] * 100, 2)\n",
        "\n",
        "print(f\"The message is classified as '{label}' with {confidence}% confidence.\")\n"
      ],
      "metadata": {
        "colab": {
          "base_uri": "https://localhost:8080/"
        },
        "id": "hG1OUrvTLIIH",
        "outputId": "cbe0b297-e600-4b15-ca34-67e4f777e904"
      },
      "execution_count": null,
      "outputs": [
        {
          "output_type": "stream",
          "name": "stdout",
          "text": [
            "The message is classified as 'ham' with 80.16% confidence.\n"
          ]
        }
      ]
    },
    {
      "cell_type": "code",
      "source": [
        "import joblib\n",
        "\n",
        "#Save model and vectorizer\n",
        "joblib.dump(best_model, 'logistic_model.pkl')\n",
        "joblib.dump(tfidf, 'vectorizer.pkl')\n"
      ],
      "metadata": {
        "colab": {
          "base_uri": "https://localhost:8080/"
        },
        "id": "EqN6lOJ66Lvu",
        "outputId": "f1413f58-afe9-47cb-d193-24d11f9170c5"
      },
      "execution_count": null,
      "outputs": [
        {
          "output_type": "execute_result",
          "data": {
            "text/plain": [
              "['vectorizer.pkl']"
            ]
          },
          "metadata": {},
          "execution_count": 92
        }
      ]
    },
    {
      "cell_type": "code",
      "source": [
        "import matplotlib.pyplot as plt\n",
        "import seaborn as sns\n",
        "from sklearn.metrics import confusion_matrix\n",
        "\n",
        "#Create the confusion matrix\n",
        "cm = confusion_matrix(y_test, y_pred, labels=['ham', 'spam'])\n",
        "\n",
        "#Plot it\n",
        "plt.figure(figsize=(6,4))\n",
        "sns.heatmap(cm, annot=True, fmt='d', cmap='Reds', xticklabels=['Ham', 'Spam'], yticklabels=['Ham', 'Spam'])\n",
        "plt.xlabel(\"Predicted\")\n",
        "plt.ylabel(\"Actual\")\n",
        "plt.title(\"Confusion Matrix\")\n",
        "plt.show()\n"
      ],
      "metadata": {
        "colab": {
          "base_uri": "https://localhost:8080/",
          "height": 410
        },
        "id": "QeaHDzRJ4x9j",
        "outputId": "760e73f9-72ff-4df0-dcf4-9616fbb34ef0"
      },
      "execution_count": null,
      "outputs": [
        {
          "output_type": "display_data",
          "data": {
            "text/plain": [
              "<Figure size 600x400 with 2 Axes>"
            ],
            "image/png": "[encoded data removed]"
          },
          "metadata": {}
        }
      ]
    },
    {
      "cell_type": "markdown",
      "source": [
        "**Multinomial Naive Bayes with TF-IDF**"
      ],
      "metadata": {
        "id": "D9GKXKM4IyhL"
      }
    },
    {
      "cell_type": "code",
      "source": [
        "import pandas as pd\n",
        "from sklearn.model_selection import train_test_split\n",
        "from sklearn.feature_extraction.text import TfidfVectorizer\n",
        "from sklearn.naive_bayes import MultinomialNB\n",
        "from sklearn.metrics import accuracy_score, classification_report\n",
        "\n",
        "\n",
        "#Train the model\n",
        "model = MultinomialNB()\n",
        "model.fit(X_train, y_train)\n",
        "\n",
        "#Predict and evaluate\n",
        "y_pred = model.predict(X_test)\n",
        "\n",
        "print(\"Accuracy:\", accuracy_score(y_test, y_pred))\n",
        "print(\"\\nClassification Report:\\n\", classification_report(y_test, y_pred))"
      ],
      "metadata": {
        "colab": {
          "base_uri": "https://localhost:8080/"
        },
        "id": "9IJTfWzMIQLX",
        "outputId": "1ad8146b-be5c-4cf1-dd35-c23536b6e890"
      },
      "execution_count": null,
      "outputs": [
        {
          "output_type": "stream",
          "name": "stdout",
          "text": [
            "Accuracy: 0.888631090487239\n",
            "\n",
            "Classification Report:\n",
            "               precision    recall  f1-score   support\n",
            "\n",
            "         ham       0.92      0.76      0.83       314\n",
            "        spam       0.87      0.96      0.92       548\n",
            "\n",
            "    accuracy                           0.89       862\n",
            "   macro avg       0.90      0.86      0.87       862\n",
            "weighted avg       0.89      0.89      0.89       862\n",
            "\n"
          ]
        }
      ]
    },
    {
      "cell_type": "code",
      "source": [
        "y_train_pred = model.predict(X_train)\n",
        "print(\"Training Accuracy:\", accuracy_score(y_train, y_train_pred))\n"
      ],
      "metadata": {
        "colab": {
          "base_uri": "https://localhost:8080/"
        },
        "id": "dKd_6z48Ks4G",
        "outputId": "aea3a83b-d466-42e1-ade7-cbf3b4818454"
      },
      "execution_count": null,
      "outputs": [
        {
          "output_type": "stream",
          "name": "stdout",
          "text": [
            "Training Accuracy: 0.8975623911781776\n"
          ]
        }
      ]
    },
    {
      "cell_type": "markdown",
      "source": [
        "**Ensembling**"
      ],
      "metadata": {
        "id": "FcmV5myyQssp"
      }
    },
    {
      "cell_type": "code",
      "source": [
        "from sklearn.ensemble import VotingClassifier\n",
        "\n",
        "ensemble = VotingClassifier(estimators=[\n",
        "    ('lr', LogisticRegression(C=0.1, max_iter=1000)),\n",
        "    ('nb', MultinomialNB())\n",
        "], voting='soft')\n",
        "\n",
        "ensemble.fit(X_train, y_train)\n",
        "y_pred = ensemble.predict(X_test)\n"
      ],
      "metadata": {
        "id": "0IFV9QVkQrzv"
      },
      "execution_count": null,
      "outputs": []
    },
    {
      "cell_type": "code",
      "source": [
        "from sklearn.metrics import accuracy_score\n",
        "\n",
        "print(\"Ensemble Accuracy:\", accuracy_score(y_test, y_pred))\n"
      ],
      "metadata": {
        "colab": {
          "base_uri": "https://localhost:8080/"
        },
        "id": "dLUoiMkrW3A4",
        "outputId": "2d148c3b-7612-451e-e3d1-c06bc538c0bf"
      },
      "execution_count": null,
      "outputs": [
        {
          "output_type": "stream",
          "name": "stdout",
          "text": [
            "Ensemble Accuracy: 0.8851508120649652\n"
          ]
        }
      ]
    },
    {
      "cell_type": "code",
      "source": [
        "from sklearn.metrics import classification_report\n",
        "\n",
        "print(\"Classification Report:\\n\", classification_report(y_test, y_pred))\n"
      ],
      "metadata": {
        "colab": {
          "base_uri": "https://localhost:8080/"
        },
        "id": "itdifufYW6xx",
        "outputId": "5e5a54d6-8430-4f3d-fd27-4393fb418672"
      },
      "execution_count": null,
      "outputs": [
        {
          "output_type": "stream",
          "name": "stdout",
          "text": [
            "Classification Report:\n",
            "               precision    recall  f1-score   support\n",
            "\n",
            "         ham       0.94      0.73      0.82       314\n",
            "        spam       0.86      0.97      0.92       548\n",
            "\n",
            "    accuracy                           0.89       862\n",
            "   macro avg       0.90      0.85      0.87       862\n",
            "weighted avg       0.89      0.89      0.88       862\n",
            "\n"
          ]
        }
      ]
    },
    {
      "cell_type": "code",
      "source": [
        "y_train_pred = ensemble.predict(X_train)\n",
        "print(\"Training Accuracy:\", accuracy_score(y_train, y_train_pred))\n"
      ],
      "metadata": {
        "colab": {
          "base_uri": "https://localhost:8080/"
        },
        "id": "VIEMOhdpXDiD",
        "outputId": "599d1548-dd3b-4fd4-ba9e-51707f619186"
      },
      "execution_count": null,
      "outputs": [
        {
          "output_type": "stream",
          "name": "stdout",
          "text": [
            "Training Accuracy: 0.8871154962275102\n"
          ]
        }
      ]
    },
    {
      "cell_type": "code",
      "source": [
        "#Test on a custom message\n",
        "sample = [clean_text(\"kia musibat hai\")]\n",
        "\n",
        "sample_tfidf = tfidf.transform(sample)\n",
        "print(\"Prediction:\", ensemble.predict(sample_tfidf)[0])  # Should return 'spam'"
      ],
      "metadata": {
        "colab": {
          "base_uri": "https://localhost:8080/"
        },
        "id": "VjVLSm0tXiLl",
        "outputId": "19c0bb65-ba5f-4136-dbe8-5bca3fe1d7a2"
      },
      "execution_count": null,
      "outputs": [
        {
          "output_type": "stream",
          "name": "stdout",
          "text": [
            "Prediction: ham\n"
          ]
        }
      ]
    },
    {
      "cell_type": "markdown",
      "source": [
        "**Using Ensemble of LR, MultinomialNB aned RF**"
      ],
      "metadata": {
        "id": "i3kY7lM9Y3Zs"
      }
    },
    {
      "cell_type": "code",
      "source": [
        "from sklearn.ensemble import VotingClassifier\n",
        "from sklearn.linear_model import LogisticRegression\n",
        "from sklearn.naive_bayes import MultinomialNB\n",
        "from sklearn.ensemble import RandomForestClassifier\n",
        "\n",
        "ensemble = VotingClassifier(estimators=[\n",
        "    ('lr', LogisticRegression(C=0.1, max_iter=1000)),\n",
        "    ('nb', MultinomialNB()),\n",
        "    ('rf', RandomForestClassifier(n_estimators=100, max_depth=10, random_state=42))\n",
        "], voting='soft')\n",
        "\n",
        "ensemble.fit(X_train, y_train)\n",
        "y_pred = ensemble.predict(X_test)"
      ],
      "metadata": {
        "id": "0gCBBUcDYUrm"
      },
      "execution_count": null,
      "outputs": []
    },
    {
      "cell_type": "code",
      "source": [
        "from sklearn.metrics import accuracy_score\n",
        "\n",
        "print(\"Ensemble Accuracy:\", accuracy_score(y_test, y_pred))\n"
      ],
      "metadata": {
        "colab": {
          "base_uri": "https://localhost:8080/"
        },
        "id": "bXjT-vuyYqSe",
        "outputId": "59bef761-7c04-4a08-f57c-881e180ca870"
      },
      "execution_count": null,
      "outputs": [
        {
          "output_type": "stream",
          "name": "stdout",
          "text": [
            "Ensemble Accuracy: 0.87122969837587\n"
          ]
        }
      ]
    },
    {
      "cell_type": "markdown",
      "source": [
        "**Using Random forest after TF-IDF**"
      ],
      "metadata": {
        "id": "oXWanXEv7VuL"
      }
    },
    {
      "cell_type": "code",
      "source": [
        "from sklearn.ensemble import RandomForestClassifier\n",
        "\n",
        "#Train Random Forest\n",
        "rf_model = RandomForestClassifier(n_estimators=100, random_state=42)\n",
        "rf_model.fit(X_train, y_train)\n",
        "\n",
        "#Predict with Random Forest\n",
        "y_pred = rf_model.predict(X_test)\n",
        "\n",
        "#Evaluate Random Forest\n",
        "\n",
        "print(\"Accuracy:\", accuracy_score(y_test, y_pred))\n",
        "print(\"\\nClassification Report:\\n\", classification_report(y_test, y_pred))\n",
        "\n",
        "\n"
      ],
      "metadata": {
        "colab": {
          "base_uri": "https://localhost:8080/"
        },
        "id": "XrDOvEkO7Trf",
        "outputId": "84238fc5-18a6-4f18-f1c9-e027c138f6c4"
      },
      "execution_count": null,
      "outputs": [
        {
          "output_type": "stream",
          "name": "stdout",
          "text": [
            "Accuracy: 0.9350348027842227\n",
            "\n",
            "Classification Report:\n",
            "               precision    recall  f1-score   support\n",
            "\n",
            "         ham       0.90      0.92      0.91       314\n",
            "        spam       0.96      0.94      0.95       548\n",
            "\n",
            "    accuracy                           0.94       862\n",
            "   macro avg       0.93      0.93      0.93       862\n",
            "weighted avg       0.94      0.94      0.94       862\n",
            "\n"
          ]
        }
      ]
    },
    {
      "cell_type": "code",
      "source": [
        "y_train_pred = rf_model.predict(X_train)\n",
        "print(\"Training Accuracy:\", accuracy_score(y_train, y_train_pred))"
      ],
      "metadata": {
        "colab": {
          "base_uri": "https://localhost:8080/"
        },
        "id": "os6ckMe-ZUcA",
        "outputId": "362bceb8-12e9-491e-e56e-39720e960a83"
      },
      "execution_count": null,
      "outputs": [
        {
          "output_type": "stream",
          "name": "stdout",
          "text": [
            "Training Accuracy: 0.9866511897852582\n"
          ]
        }
      ]
    },
    {
      "cell_type": "code",
      "source": [
        "import matplotlib.pyplot as plt\n",
        "import seaborn as sns\n",
        "from sklearn.metrics import confusion_matrix\n",
        "\n",
        "#Create the confusion matrix\n",
        "cm = confusion_matrix(y_test, y_pred, labels=['ham', 'spam'])\n",
        "\n",
        "#Plot it\n",
        "plt.figure(figsize=(6,4))\n",
        "sns.heatmap(cm, annot=True, fmt='d', cmap='Greens', xticklabels=['Ham', 'Spam'], yticklabels=['Ham', 'Spam'])\n",
        "plt.xlabel(\"Predicted\")\n",
        "plt.ylabel(\"Actual\")\n",
        "plt.title(\"Confusion Matrix\")\n",
        "plt.show()\n"
      ],
      "metadata": {
        "colab": {
          "base_uri": "https://localhost:8080/",
          "height": 410
        },
        "id": "BTethoiC7hUB",
        "outputId": "3dd4f088-5458-4145-b838-7e78e4a96e9a"
      },
      "execution_count": null,
      "outputs": [
        {
          "output_type": "display_data",
          "data": {
            "text/plain": [
              "<Figure size 600x400 with 2 Axes>"
            ],
            "image/png": "[encoded data removed]"
          },
          "metadata": {}
        }
      ]
    }
  ]
}